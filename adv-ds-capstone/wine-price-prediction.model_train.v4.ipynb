{
 "cells": [
  {
   "cell_type": "markdown",
   "metadata": {
    "collapsed": true
   },
   "source": [
    "# Wine Price Prediction - Model Training v4\n",
    "\n",
    "- **v1** - Trained simple DL model and LGB model\n",
    "- **v2** - Tried wider and deeper DL models\n",
    "- **v3** - Dataset updated with a new feature\n",
    "- **v4** - Trained the final model\n",
    "\n",
    "## Data and Use case\n",
    "\n",
    "[**Wine Reviews** - 130k wine reviews with variety, location, winery, price, and description](https://www.kaggle.com/zynicide/wine-reviews/home)\n",
    "\n",
    "This dataset is available on Kaggle and contains around 130k of wine reviews. The data was scraped from [WineEnthusiast](http://www.winemag.com/?s=&drink_type=wine) on November 22nd, 2017.\n",
    "\n",
    "I plan to use this dataset to develop a model that predicts wine price for specified set of parameters, like wine variety, region, desired quality. Such model, may be integrated into an application that runs on a mobile device to suggest price range during wine shopping without need to do online search."
   ]
  },
  {
   "cell_type": "markdown",
   "metadata": {},
   "source": [
    "## Model Training\n",
    "In this task, the model is trained. This task is set apart from model definition and evaluation for various reasons. For instance, training is a computationally intense task which might be scaled on computer clusters or GPUs"
   ]
  },
  {
   "cell_type": "code",
   "execution_count": 2,
   "metadata": {},
   "outputs": [],
   "source": [
    "seed=123\n",
    "\n",
    "import numpy.random as nr\n",
    "nr.seed(seed)\n",
    "from tensorflow import set_random_seed\n",
    "set_random_seed(seed)"
   ]
  },
  {
   "cell_type": "markdown",
   "metadata": {},
   "source": [
    "## Split into Training and Test Data"
   ]
  },
  {
   "cell_type": "markdown",
   "metadata": {},
   "source": [
    "Let's load the features we modeled from COS."
   ]
  },
  {
   "cell_type": "code",
   "execution_count": 3,
   "metadata": {},
   "outputs": [],
   "source": [
    "import warnings\n",
    "warnings.filterwarnings('ignore')"
   ]
  },
  {
   "cell_type": "code",
   "execution_count": 1,
   "metadata": {},
   "outputs": [
    {
     "data": {
      "text/html": [
       "<div>\n",
       "<style scoped>\n",
       "    .dataframe tbody tr th:only-of-type {\n",
       "        vertical-align: middle;\n",
       "    }\n",
       "\n",
       "    .dataframe tbody tr th {\n",
       "        vertical-align: top;\n",
       "    }\n",
       "\n",
       "    .dataframe thead th {\n",
       "        text-align: right;\n",
       "    }\n",
       "</style>\n",
       "<table border=\"1\" class=\"dataframe\">\n",
       "  <thead>\n",
       "    <tr style=\"text-align: right;\">\n",
       "      <th></th>\n",
       "      <th>price</th>\n",
       "      <th>country_code</th>\n",
       "      <th>province_code</th>\n",
       "      <th>variety_code</th>\n",
       "      <th>points_code</th>\n",
       "      <th>age_code</th>\n",
       "    </tr>\n",
       "  </thead>\n",
       "  <tbody>\n",
       "    <tr>\n",
       "      <th>0</th>\n",
       "      <td>15.0</td>\n",
       "      <td>30</td>\n",
       "      <td>106</td>\n",
       "      <td>435</td>\n",
       "      <td>2</td>\n",
       "      <td>1</td>\n",
       "    </tr>\n",
       "    <tr>\n",
       "      <th>1</th>\n",
       "      <td>14.0</td>\n",
       "      <td>39</td>\n",
       "      <td>261</td>\n",
       "      <td>421</td>\n",
       "      <td>2</td>\n",
       "      <td>0</td>\n",
       "    </tr>\n",
       "    <tr>\n",
       "      <th>2</th>\n",
       "      <td>13.0</td>\n",
       "      <td>39</td>\n",
       "      <td>212</td>\n",
       "      <td>463</td>\n",
       "      <td>2</td>\n",
       "      <td>0</td>\n",
       "    </tr>\n",
       "    <tr>\n",
       "      <th>3</th>\n",
       "      <td>65.0</td>\n",
       "      <td>39</td>\n",
       "      <td>261</td>\n",
       "      <td>425</td>\n",
       "      <td>2</td>\n",
       "      <td>0</td>\n",
       "    </tr>\n",
       "    <tr>\n",
       "      <th>4</th>\n",
       "      <td>15.0</td>\n",
       "      <td>36</td>\n",
       "      <td>255</td>\n",
       "      <td>570</td>\n",
       "      <td>2</td>\n",
       "      <td>1</td>\n",
       "    </tr>\n",
       "  </tbody>\n",
       "</table>\n",
       "</div>"
      ],
      "text/plain": [
       "   price  country_code  province_code  variety_code  points_code  age_code\n",
       "0   15.0            30            106           435            2         1\n",
       "1   14.0            39            261           421            2         0\n",
       "2   13.0            39            212           463            2         0\n",
       "3   65.0            39            261           425            2         0\n",
       "4   15.0            36            255           570            2         1"
      ]
     },
     "execution_count": 1,
     "metadata": {},
     "output_type": "execute_result"
    }
   ],
   "source": [
    "from io import StringIO\n",
    "import requests\n",
    "import json\n",
    "import pandas as pd\n",
    "\n",
    "df_data_1 = pd.read_csv('wine-data-features.v2.zip')\n",
    "df_data_1.head()"
   ]
  },
  {
   "cell_type": "code",
   "execution_count": 2,
   "metadata": {},
   "outputs": [],
   "source": [
    "features = [c for c in df_data_1.columns if c not in ['price']]\n",
    "for column in features:\n",
    "    df_data_1[column] = df_data_1[column].astype('category')"
   ]
  },
  {
   "cell_type": "code",
   "execution_count": 3,
   "metadata": {},
   "outputs": [
    {
     "name": "stdout",
     "output_type": "stream",
     "text": [
      "<class 'pandas.core.frame.DataFrame'>\n",
      "RangeIndex: 106554 entries, 0 to 106553\n",
      "Data columns (total 6 columns):\n",
      "price            106554 non-null float64\n",
      "country_code     106554 non-null category\n",
      "province_code    106554 non-null category\n",
      "variety_code     106554 non-null category\n",
      "points_code      106554 non-null category\n",
      "age_code         106554 non-null category\n",
      "dtypes: category(5), float64(1)\n",
      "memory usage: 1.6 MB\n"
     ]
    }
   ],
   "source": [
    "df_data_1.info()"
   ]
  },
  {
   "cell_type": "markdown",
   "metadata": {},
   "source": [
    "## Train and Test Sets"
   ]
  },
  {
   "cell_type": "code",
   "execution_count": 10,
   "metadata": {},
   "outputs": [],
   "source": [
    "from sklearn.model_selection import train_test_split\n",
    "\n",
    "tv_x, test_x, tv_y, test_y = train_test_split(df_data_1[features], df_data_1[\"price\"], test_size=0.2, random_state=seed)"
   ]
  },
  {
   "cell_type": "code",
   "execution_count": 11,
   "metadata": {},
   "outputs": [],
   "source": [
    "train_x, valid_x, train_y, valid_y = train_test_split(tv_x, tv_y, test_size=0.2, random_state=seed)"
   ]
  },
  {
   "cell_type": "markdown",
   "metadata": {},
   "source": [
    "## Train LightGBM Model"
   ]
  },
  {
   "cell_type": "code",
   "execution_count": 11,
   "metadata": {},
   "outputs": [],
   "source": [
    "# !pip install lightgbm\n",
    "import lightgbm as lgb"
   ]
  },
  {
   "cell_type": "code",
   "execution_count": 12,
   "metadata": {},
   "outputs": [
    {
     "data": {
      "text/plain": [
       "LGBMModel(bagging_fraction=0.75, bagging_frequency=9, boosting_type='gbdt',\n",
       "     class_weight=None, colsample_bytree=1.0, feature_fraction=0.8,\n",
       "     importance_type='split', learning_rate=0.01, max_depth=-1,\n",
       "     metric=['mse', 'rmse'], min_child_samples=20, min_child_weight=0.001,\n",
       "     min_split_gain=0.0, n_estimators=5000, n_jobs=-1, num_leaves=50,\n",
       "     objective='regression', random_state=123, reg_alpha=0.0,\n",
       "     reg_lambda=0.0, silent=True, subsample=1.0, subsample_for_bin=200000,\n",
       "     subsample_freq=0)"
      ]
     },
     "execution_count": 12,
     "metadata": {},
     "output_type": "execute_result"
    }
   ],
   "source": [
    "import pickle\n",
    "\n",
    "with open('wine-price-prediction.model.lgbm.pickle', 'rb') as file:\n",
    "    model = pickle.load(file)\n",
    "    \n",
    "model"
   ]
  },
  {
   "cell_type": "code",
   "execution_count": 13,
   "metadata": {},
   "outputs": [
    {
     "name": "stdout",
     "output_type": "stream",
     "text": [
      "Training until validation scores don't improve for 100 rounds.\n",
      "[50]\tvalid_0's l2: 375.011\tvalid_0's rmse: 19.3652\n",
      "[100]\tvalid_0's l2: 311.913\tvalid_0's rmse: 17.6611\n",
      "[150]\tvalid_0's l2: 283.752\tvalid_0's rmse: 16.8449\n",
      "[200]\tvalid_0's l2: 271.629\tvalid_0's rmse: 16.4812\n",
      "[250]\tvalid_0's l2: 266.115\tvalid_0's rmse: 16.313\n",
      "[300]\tvalid_0's l2: 263.435\tvalid_0's rmse: 16.2307\n",
      "[350]\tvalid_0's l2: 262.083\tvalid_0's rmse: 16.189\n",
      "[400]\tvalid_0's l2: 261.342\tvalid_0's rmse: 16.1661\n",
      "[450]\tvalid_0's l2: 260.854\tvalid_0's rmse: 16.151\n",
      "[500]\tvalid_0's l2: 260.541\tvalid_0's rmse: 16.1413\n",
      "[550]\tvalid_0's l2: 260.314\tvalid_0's rmse: 16.1343\n",
      "[600]\tvalid_0's l2: 260.091\tvalid_0's rmse: 16.1273\n",
      "[650]\tvalid_0's l2: 259.913\tvalid_0's rmse: 16.1218\n",
      "[700]\tvalid_0's l2: 259.779\tvalid_0's rmse: 16.1177\n",
      "[750]\tvalid_0's l2: 259.669\tvalid_0's rmse: 16.1142\n",
      "[800]\tvalid_0's l2: 259.605\tvalid_0's rmse: 16.1123\n",
      "[850]\tvalid_0's l2: 259.491\tvalid_0's rmse: 16.1087\n",
      "[900]\tvalid_0's l2: 259.424\tvalid_0's rmse: 16.1066\n",
      "[950]\tvalid_0's l2: 259.311\tvalid_0's rmse: 16.1031\n",
      "[1000]\tvalid_0's l2: 259.248\tvalid_0's rmse: 16.1012\n",
      "[1050]\tvalid_0's l2: 259.191\tvalid_0's rmse: 16.0994\n",
      "[1100]\tvalid_0's l2: 259.17\tvalid_0's rmse: 16.0988\n",
      "[1150]\tvalid_0's l2: 259.16\tvalid_0's rmse: 16.0985\n",
      "[1200]\tvalid_0's l2: 259.169\tvalid_0's rmse: 16.0987\n",
      "Early stopping, best iteration is:\n",
      "[1142]\tvalid_0's l2: 259.152\tvalid_0's rmse: 16.0982\n"
     ]
    },
    {
     "data": {
      "text/plain": [
       "LGBMModel(bagging_fraction=0.75, bagging_frequency=9, boosting_type='gbdt',\n",
       "     class_weight=None, colsample_bytree=1.0, feature_fraction=0.8,\n",
       "     importance_type='split', learning_rate=0.01, max_depth=-1,\n",
       "     metric=['mse', 'rmse'], min_child_samples=20, min_child_weight=0.001,\n",
       "     min_split_gain=0.0, n_estimators=5000, n_jobs=-1, num_leaves=50,\n",
       "     objective='regression', random_state=123, reg_alpha=0.0,\n",
       "     reg_lambda=0.0, silent=True, subsample=1.0, subsample_for_bin=200000,\n",
       "     subsample_freq=0)"
      ]
     },
     "execution_count": 13,
     "metadata": {},
     "output_type": "execute_result"
    }
   ],
   "source": [
    "model.fit(train_x, train_y, eval_set=[(valid_x, valid_y)], early_stopping_rounds=100, verbose=50)"
   ]
  },
  {
   "cell_type": "code",
   "execution_count": 14,
   "metadata": {},
   "outputs": [
    {
     "data": {
      "text/plain": [
       "<matplotlib.axes._subplots.AxesSubplot at 0x7f8b68166400>"
      ]
     },
     "execution_count": 14,
     "metadata": {},
     "output_type": "execute_result"
    },
    {
     "data": {
      "image/png": "[encoded data removed]",
      "text/plain": [
       "<matplotlib.figure.Figure at 0x7f8b83d69a20>"
      ]
     },
     "metadata": {},
     "output_type": "display_data"
    },
    {
     "data": {
      "image/png": "[encoded data removed]",
      "text/plain": [
       "<matplotlib.figure.Figure at 0x7f8b83d69128>"
      ]
     },
     "metadata": {},
     "output_type": "display_data"
    }
   ],
   "source": [
    "%matplotlib inline\n",
    "lgb.plot_importance(model)\n",
    "lgb.plot_metric(model)"
   ]
  },
  {
   "cell_type": "code",
   "execution_count": 15,
   "metadata": {},
   "outputs": [
    {
     "name": "stdout",
     "output_type": "stream",
     "text": [
      "wine-price-prediction.model.lgbm.fitted.pickle\r\n",
      "wine-price-prediction.model.lgbm.pickle\r\n"
     ]
    }
   ],
   "source": [
    "with open('wine-price-prediction.model.lgbm.fitted.pickle', 'wb') as file:\n",
    "    pickle.dump(model, file)"
   ]
  },
  {
   "cell_type": "markdown",
   "metadata": {},
   "source": [
    "## Train MLP Neural Network"
   ]
  },
  {
   "cell_type": "code",
   "execution_count": 12,
   "metadata": {},
   "outputs": [
    {
     "name": "stderr",
     "output_type": "stream",
     "text": [
      "Using TensorFlow backend.\n"
     ]
    }
   ],
   "source": [
    "from keras.models import load_model"
   ]
  },
  {
   "cell_type": "markdown",
   "metadata": {},
   "source": [
    "Let's define some useful functions."
   ]
  },
  {
   "cell_type": "code",
   "execution_count": 13,
   "metadata": {},
   "outputs": [],
   "source": [
    "from matplotlib import pyplot\n",
    "\n",
    "def plot_training_loss(history):\n",
    "    pyplot.subplots(figsize=(15, 5))\n",
    "    pyplot.plot(history.history['loss'])\n",
    "    pyplot.plot(history.history['val_loss'])\n",
    "    pyplot.title('model loss')\n",
    "    pyplot.ylabel('loss')\n",
    "    pyplot.xlabel('epoch')\n",
    "    pyplot.legend(['train', 'validation'], loc='upper left')\n",
    "    pyplot.show()"
   ]
  },
  {
   "cell_type": "markdown",
   "metadata": {},
   "source": [
    "### Prepare Dataset\n",
    "\n",
    "For use in MLP regressor let's one-hot encode all the categorical features in our dataset."
   ]
  },
  {
   "cell_type": "code",
   "execution_count": 14,
   "metadata": {},
   "outputs": [],
   "source": [
    "def one_hot_encode(df):\n",
    "    for column in features:\n",
    "        df = pd.get_dummies(df, columns=[column], prefix=column)\n",
    "        \n",
    "    return df"
   ]
  },
  {
   "cell_type": "markdown",
   "metadata": {},
   "source": [
    "Let's one-hot encode test data and reshape into Numpy arrays."
   ]
  },
  {
   "cell_type": "code",
   "execution_count": 15,
   "metadata": {},
   "outputs": [],
   "source": [
    "train_x_enc = one_hot_encode(train_x)\n",
    "train_x_np = train_x_enc.values.reshape(-1, train_x_enc.shape[1])\n",
    "train_y_np = train_y.values.reshape(-1, 1)\n",
    "\n",
    "valid_x_np = one_hot_encode(valid_x).values.reshape(-1, train_x_enc.shape[1])\n",
    "valid_y_np = valid_y.values.reshape(-1, 1)"
   ]
  },
  {
   "cell_type": "markdown",
   "metadata": {},
   "source": [
    "### Simple MLP Regressor"
   ]
  },
  {
   "cell_type": "code",
   "execution_count": 38,
   "metadata": {},
   "outputs": [],
   "source": [
    "model2 = load_model('wine-price-prediction.model.keras.h5')"
   ]
  },
  {
   "cell_type": "code",
   "execution_count": 39,
   "metadata": {},
   "outputs": [
    {
     "name": "stdout",
     "output_type": "stream",
     "text": [
      "Train on 68194 samples, validate on 17049 samples\n",
      "Epoch 1/120\n",
      "68194/68194 [==============================] - 8s 114us/step - loss: 1569.9393 - val_loss: 1426.0545\n",
      "Epoch 2/120\n",
      "68194/68194 [==============================] - 8s 114us/step - loss: 1363.9826 - val_loss: 1170.1249\n",
      "Epoch 3/120\n",
      "68194/68194 [==============================] - 8s 116us/step - loss: 1069.8746 - val_loss: 857.7330\n",
      "Epoch 4/120\n",
      "68194/68194 [==============================] - 8s 122us/step - loss: 765.1388 - val_loss: 602.3299\n",
      "Epoch 5/120\n",
      "68194/68194 [==============================] - 8s 113us/step - loss: 563.2876 - val_loss: 482.6531\n",
      "Epoch 6/120\n",
      "68194/68194 [==============================] - 8s 123us/step - loss: 479.7162 - val_loss: 437.5075\n",
      "Epoch 7/120\n",
      "68194/68194 [==============================] - 8s 119us/step - loss: 437.2237 - val_loss: 400.5822\n",
      "Epoch 8/120\n",
      "68194/68194 [==============================] - 8s 116us/step - loss: 402.9359 - val_loss: 372.0206\n",
      "Epoch 9/120\n",
      "68194/68194 [==============================] - 8s 112us/step - loss: 377.1905 - val_loss: 351.1457\n",
      "Epoch 10/120\n",
      "68194/68194 [==============================] - 8s 113us/step - loss: 357.7270 - val_loss: 335.4982\n",
      "Epoch 11/120\n",
      "68194/68194 [==============================] - 8s 120us/step - loss: 342.8309 - val_loss: 323.7707\n",
      "Epoch 12/120\n",
      "68194/68194 [==============================] - 9s 126us/step - loss: 331.6529 - val_loss: 314.9754\n",
      "Epoch 13/120\n",
      "68194/68194 [==============================] - 8s 117us/step - loss: 323.2981 - val_loss: 308.4433\n",
      "Epoch 14/120\n",
      "68194/68194 [==============================] - 8s 117us/step - loss: 316.9796 - val_loss: 303.3718\n",
      "Epoch 15/120\n",
      "68194/68194 [==============================] - 8s 114us/step - loss: 312.0398 - val_loss: 299.4616\n",
      "Epoch 16/120\n",
      "68194/68194 [==============================] - 8s 117us/step - loss: 307.9935 - val_loss: 296.3068\n",
      "Epoch 17/120\n",
      "68194/68194 [==============================] - 8s 117us/step - loss: 304.7188 - val_loss: 293.6464\n",
      "Epoch 18/120\n",
      "68194/68194 [==============================] - 8s 120us/step - loss: 301.9223 - val_loss: 291.5202\n",
      "Epoch 19/120\n",
      "68194/68194 [==============================] - 8s 117us/step - loss: 299.4980 - val_loss: 289.5818\n",
      "Epoch 20/120\n",
      "68194/68194 [==============================] - 9s 127us/step - loss: 297.4028 - val_loss: 288.0597\n",
      "Epoch 21/120\n",
      "68194/68194 [==============================] - 9s 129us/step - loss: 295.6183 - val_loss: 286.6521\n",
      "Epoch 22/120\n",
      "68194/68194 [==============================] - 9s 126us/step - loss: 294.0496 - val_loss: 285.5390\n",
      "Epoch 23/120\n",
      "68194/68194 [==============================] - 9s 126us/step - loss: 292.6688 - val_loss: 284.5202\n",
      "Epoch 24/120\n",
      "68194/68194 [==============================] - 8s 116us/step - loss: 291.4605 - val_loss: 283.6041\n",
      "Epoch 25/120\n",
      "68194/68194 [==============================] - 8s 119us/step - loss: 290.3593 - val_loss: 282.8278\n",
      "Epoch 26/120\n",
      "68194/68194 [==============================] - 9s 128us/step - loss: 289.3631 - val_loss: 282.0644\n",
      "Epoch 27/120\n",
      "68194/68194 [==============================] - 9s 125us/step - loss: 288.4813 - val_loss: 281.4197\n",
      "Epoch 28/120\n",
      "68194/68194 [==============================] - 8s 120us/step - loss: 287.6079 - val_loss: 280.8094\n",
      "Epoch 29/120\n",
      "68194/68194 [==============================] - 8s 117us/step - loss: 286.8050 - val_loss: 280.2187\n",
      "Epoch 30/120\n",
      "68194/68194 [==============================] - 8s 122us/step - loss: 286.0656 - val_loss: 279.6747\n",
      "Epoch 31/120\n",
      "68194/68194 [==============================] - 8s 119us/step - loss: 285.3211 - val_loss: 279.1056\n",
      "Epoch 32/120\n",
      "68194/68194 [==============================] - 9s 126us/step - loss: 284.5561 - val_loss: 278.5133\n",
      "Epoch 33/120\n",
      "68194/68194 [==============================] - 8s 123us/step - loss: 283.8412 - val_loss: 277.9897\n",
      "Epoch 34/120\n",
      "68194/68194 [==============================] - 9s 126us/step - loss: 283.1021 - val_loss: 277.4468\n",
      "Epoch 35/120\n",
      "68194/68194 [==============================] - 9s 125us/step - loss: 282.4114 - val_loss: 276.9497\n",
      "Epoch 36/120\n",
      "68194/68194 [==============================] - 8s 122us/step - loss: 281.6754 - val_loss: 276.3185\n",
      "Epoch 37/120\n",
      "68194/68194 [==============================] - 8s 111us/step - loss: 280.9628 - val_loss: 275.8062\n",
      "Epoch 38/120\n",
      "68194/68194 [==============================] - 8s 113us/step - loss: 280.2419 - val_loss: 275.3302\n",
      "Epoch 39/120\n",
      "68194/68194 [==============================] - 8s 123us/step - loss: 279.4967 - val_loss: 274.7315\n",
      "Epoch 40/120\n",
      "68194/68194 [==============================] - 8s 119us/step - loss: 278.8026 - val_loss: 274.2305\n",
      "Epoch 41/120\n",
      "68194/68194 [==============================] - 8s 116us/step - loss: 278.0871 - val_loss: 273.6917\n",
      "Epoch 42/120\n",
      "68194/68194 [==============================] - 8s 120us/step - loss: 277.3617 - val_loss: 273.1635\n",
      "Epoch 43/120\n",
      "68194/68194 [==============================] - 8s 114us/step - loss: 276.6894 - val_loss: 272.5913\n",
      "Epoch 44/120\n",
      "68194/68194 [==============================] - 8s 122us/step - loss: 275.9803 - val_loss: 272.1217\n",
      "Epoch 45/120\n",
      "68194/68194 [==============================] - 8s 125us/step - loss: 275.3281 - val_loss: 271.6221\n",
      "Epoch 46/120\n",
      "68194/68194 [==============================] - 8s 119us/step - loss: 274.6969 - val_loss: 271.2884\n",
      "Epoch 47/120\n",
      "68194/68194 [==============================] - 8s 119us/step - loss: 274.0578 - val_loss: 270.6764\n",
      "Epoch 48/120\n",
      "68194/68194 [==============================] - 8s 125us/step - loss: 273.4820 - val_loss: 270.3700\n",
      "Epoch 49/120\n",
      "68194/68194 [==============================] - 8s 113us/step - loss: 272.8597 - val_loss: 269.9126\n",
      "Epoch 50/120\n",
      "68194/68194 [==============================] - 8s 119us/step - loss: 272.2626 - val_loss: 269.6415\n",
      "Epoch 51/120\n",
      "68194/68194 [==============================] - 8s 122us/step - loss: 271.6981 - val_loss: 269.0661\n",
      "Epoch 52/120\n",
      "68194/68194 [==============================] - 8s 118us/step - loss: 271.1244 - val_loss: 268.7916\n",
      "Epoch 53/120\n",
      "68194/68194 [==============================] - 8s 116us/step - loss: 270.6134 - val_loss: 268.3238\n",
      "Epoch 54/120\n",
      "68194/68194 [==============================] - 8s 121us/step - loss: 270.0372 - val_loss: 268.0922\n",
      "Epoch 55/120\n",
      "68194/68194 [==============================] - 8s 124us/step - loss: 269.4961 - val_loss: 267.7091\n",
      "Epoch 56/120\n",
      "68194/68194 [==============================] - 8s 117us/step - loss: 268.9469 - val_loss: 267.3458\n",
      "Epoch 57/120\n",
      "68194/68194 [==============================] - 9s 126us/step - loss: 268.4876 - val_loss: 266.9586\n",
      "Epoch 58/120\n",
      "68194/68194 [==============================] - 8s 122us/step - loss: 268.0123 - val_loss: 266.8247\n",
      "Epoch 59/120\n",
      "68194/68194 [==============================] - 8s 119us/step - loss: 267.5056 - val_loss: 266.3688\n",
      "Epoch 60/120\n",
      "68194/68194 [==============================] - 8s 124us/step - loss: 267.0191 - val_loss: 266.2146\n",
      "Epoch 61/120\n",
      "68194/68194 [==============================] - 8s 120us/step - loss: 266.5104 - val_loss: 265.9137\n",
      "Epoch 62/120\n",
      "68194/68194 [==============================] - 8s 119us/step - loss: 266.0502 - val_loss: 265.4923\n",
      "Epoch 63/120\n",
      "68194/68194 [==============================] - 8s 117us/step - loss: 265.6007 - val_loss: 265.3907\n",
      "Epoch 64/120\n",
      "68194/68194 [==============================] - 9s 129us/step - loss: 265.1272 - val_loss: 265.0742\n",
      "Epoch 65/120\n",
      "68194/68194 [==============================] - 8s 122us/step - loss: 264.6891 - val_loss: 265.0208\n",
      "Epoch 66/120\n",
      "68194/68194 [==============================] - 8s 117us/step - loss: 264.2670 - val_loss: 264.6347\n",
      "Epoch 67/120\n",
      "68194/68194 [==============================] - 8s 116us/step - loss: 263.9165 - val_loss: 264.4370\n",
      "Epoch 68/120\n",
      "68194/68194 [==============================] - 8s 116us/step - loss: 263.4359 - val_loss: 264.1884\n",
      "Epoch 69/120\n",
      "68194/68194 [==============================] - 8s 116us/step - loss: 263.0408 - val_loss: 264.0588\n",
      "Epoch 70/120\n",
      "68194/68194 [==============================] - 8s 120us/step - loss: 262.6441 - val_loss: 263.7401\n",
      "Epoch 71/120\n",
      "68194/68194 [==============================] - 8s 123us/step - loss: 262.2787 - val_loss: 263.5976\n",
      "Epoch 72/120\n",
      "68194/68194 [==============================] - 8s 116us/step - loss: 261.9178 - val_loss: 263.6789\n",
      "Epoch 73/120\n",
      "68194/68194 [==============================] - 8s 117us/step - loss: 261.4787 - val_loss: 263.2781\n",
      "Epoch 74/120\n",
      "68194/68194 [==============================] - 8s 120us/step - loss: 261.1142 - val_loss: 263.2116\n",
      "Epoch 75/120\n",
      "68194/68194 [==============================] - 8s 119us/step - loss: 260.8083 - val_loss: 262.9695\n",
      "Epoch 76/120\n",
      "68194/68194 [==============================] - 9s 125us/step - loss: 260.4043 - val_loss: 263.0085\n",
      "Epoch 77/120\n",
      "68194/68194 [==============================] - 8s 122us/step - loss: 260.0124 - val_loss: 262.7876\n",
      "Epoch 78/120\n",
      "68194/68194 [==============================] - 9s 132us/step - loss: 259.7147 - val_loss: 262.7799\n",
      "Epoch 79/120\n",
      "68194/68194 [==============================] - 18s 267us/step - loss: 259.4061 - val_loss: 262.6003\n",
      "Epoch 80/120\n",
      "68194/68194 [==============================] - 27s 390us/step - loss: 259.0147 - val_loss: 262.2395\n",
      "Epoch 81/120\n",
      "68194/68194 [==============================] - 24s 358us/step - loss: 258.7363 - val_loss: 262.5555\n",
      "Epoch 82/120\n",
      "68194/68194 [==============================] - 25s 365us/step - loss: 258.3198 - val_loss: 262.0871\n",
      "Epoch 83/120\n",
      "68194/68194 [==============================] - 25s 374us/step - loss: 258.0228 - val_loss: 261.9826\n",
      "Epoch 84/120\n",
      "68194/68194 [==============================] - 26s 389us/step - loss: 257.6842 - val_loss: 262.0813\n",
      "Epoch 85/120\n",
      "68194/68194 [==============================] - 26s 377us/step - loss: 257.3612 - val_loss: 262.0260\n",
      "Epoch 86/120\n",
      "68194/68194 [==============================] - 27s 389us/step - loss: 257.1101 - val_loss: 261.7523\n",
      "Epoch 87/120\n",
      "68194/68194 [==============================] - 25s 365us/step - loss: 256.8095 - val_loss: 261.7413\n",
      "Epoch 88/120\n",
      "68194/68194 [==============================] - 25s 371us/step - loss: 256.4605 - val_loss: 261.6467\n",
      "Epoch 89/120\n",
      "68194/68194 [==============================] - 26s 378us/step - loss: 256.1168 - val_loss: 261.6737\n",
      "Epoch 90/120\n",
      "68194/68194 [==============================] - 25s 365us/step - loss: 255.8716 - val_loss: 261.5166\n",
      "Epoch 91/120\n",
      "68194/68194 [==============================] - 24s 352us/step - loss: 255.5397 - val_loss: 261.4159\n",
      "Epoch 92/120\n",
      "68194/68194 [==============================] - 25s 371us/step - loss: 255.2713 - val_loss: 261.4053\n",
      "Epoch 93/120\n",
      "68194/68194 [==============================] - 25s 362us/step - loss: 254.9439 - val_loss: 261.4427\n",
      "Epoch 94/120\n",
      "68194/68194 [==============================] - 25s 368us/step - loss: 254.7007 - val_loss: 261.3076\n",
      "Epoch 95/120\n",
      "68194/68194 [==============================] - 26s 381us/step - loss: 254.4293 - val_loss: 261.2653\n",
      "Epoch 96/120\n",
      "68194/68194 [==============================] - 24s 359us/step - loss: 254.1920 - val_loss: 261.2765\n",
      "Epoch 97/120\n",
      "68194/68194 [==============================] - 24s 348us/step - loss: 253.9112 - val_loss: 261.0901\n",
      "Epoch 98/120\n",
      "68194/68194 [==============================] - 25s 372us/step - loss: 253.6543 - val_loss: 261.3923\n",
      "Epoch 99/120\n",
      "68194/68194 [==============================] - 25s 362us/step - loss: 253.4131 - val_loss: 261.4499\n",
      "Epoch 100/120\n",
      "68194/68194 [==============================] - 25s 372us/step - loss: 253.1955 - val_loss: 261.2152\n",
      "Epoch 101/120\n",
      "68194/68194 [==============================] - 24s 356us/step - loss: 252.9105 - val_loss: 261.0427\n",
      "Epoch 102/120\n",
      "68194/68194 [==============================] - 25s 359us/step - loss: 252.6746 - val_loss: 261.0931\n",
      "Epoch 103/120\n",
      "68194/68194 [==============================] - 18s 270us/step - loss: 252.4570 - val_loss: 261.2887\n",
      "Epoch 104/120\n",
      "68194/68194 [==============================] - 8s 123us/step - loss: 252.2574 - val_loss: 261.3743\n",
      "Epoch 105/120\n",
      "68194/68194 [==============================] - 22s 317us/step - loss: 251.9636 - val_loss: 261.0076\n",
      "Epoch 106/120\n",
      "68194/68194 [==============================] - 23s 342us/step - loss: 251.7503 - val_loss: 261.1438\n",
      "Epoch 107/120\n",
      "68194/68194 [==============================] - 25s 367us/step - loss: 251.5567 - val_loss: 260.9743\n",
      "Epoch 108/120\n",
      "68194/68194 [==============================] - 24s 356us/step - loss: 251.3198 - val_loss: 261.1161\n",
      "Epoch 109/120\n",
      "68194/68194 [==============================] - 24s 355us/step - loss: 251.0731 - val_loss: 261.2989\n",
      "Epoch 110/120\n",
      "68194/68194 [==============================] - 24s 355us/step - loss: 250.9644 - val_loss: 261.4425\n",
      "Epoch 111/120\n",
      "68194/68194 [==============================] - 24s 352us/step - loss: 250.6652 - val_loss: 260.8701\n",
      "Epoch 112/120\n",
      "68194/68194 [==============================] - 25s 362us/step - loss: 250.4842 - val_loss: 261.2324\n",
      "Epoch 113/120\n",
      "68194/68194 [==============================] - 24s 347us/step - loss: 250.3302 - val_loss: 261.2117\n",
      "Epoch 114/120\n",
      "68194/68194 [==============================] - 24s 355us/step - loss: 250.0918 - val_loss: 261.0449\n",
      "Epoch 115/120\n",
      "68194/68194 [==============================] - 24s 352us/step - loss: 249.9037 - val_loss: 261.0699\n",
      "Epoch 116/120\n",
      "68194/68194 [==============================] - 25s 367us/step - loss: 249.7429 - val_loss: 261.1919\n",
      "Epoch 117/120\n",
      "68194/68194 [==============================] - 26s 378us/step - loss: 249.5208 - val_loss: 261.1739\n",
      "Epoch 118/120\n",
      "68194/68194 [==============================] - 24s 353us/step - loss: 249.5067 - val_loss: 261.3948\n",
      "Epoch 119/120\n",
      "68194/68194 [==============================] - 24s 356us/step - loss: 249.2302 - val_loss: 261.6378\n",
      "Epoch 120/120\n",
      "68194/68194 [==============================] - 22s 318us/step - loss: 248.9733 - val_loss: 261.1444\n"
     ]
    }
   ],
   "source": [
    "batch_size = 5000\n",
    "history = model2.fit(train_x_np, train_y_np, validation_data=(valid_x_np, valid_y_np), shuffle=True, batch_size=batch_size, epochs=120)"
   ]
  },
  {
   "cell_type": "code",
   "execution_count": 40,
   "metadata": {},
   "outputs": [
    {
     "data": {
      "image/png": "[encoded data removed]",
      "text/plain": [
       "<matplotlib.figure.Figure at 0x7efcbc5bfc50>"
      ]
     },
     "metadata": {},
     "output_type": "display_data"
    }
   ],
   "source": [
    "plot_training_loss(history)"
   ]
  },
  {
   "cell_type": "code",
   "execution_count": 23,
   "metadata": {},
   "outputs": [],
   "source": [
    "model2.save(\"wine-price-prediction.model.keras.fitted.h5\")"
   ]
  },
  {
   "cell_type": "markdown",
   "metadata": {},
   "source": [
    "Let's add more complex arhitectures for the neural network regressor. We try both 'deeper' and 'wider' models."
   ]
  },
  {
   "cell_type": "markdown",
   "metadata": {},
   "source": [
    "### Deeper MLP Regressor"
   ]
  },
  {
   "cell_type": "code",
   "execution_count": 24,
   "metadata": {},
   "outputs": [],
   "source": [
    "model3 = load_model('wine-price-prediction.model.keras.deep.h5')"
   ]
  },
  {
   "cell_type": "code",
   "execution_count": 28,
   "metadata": {},
   "outputs": [
    {
     "name": "stdout",
     "output_type": "stream",
     "text": [
      "Train on 68194 samples, validate on 17049 samples\n",
      "Epoch 1/30\n",
      "68194/68194 [==============================] - 18s 268us/step - loss: 261.8164 - val_loss: 260.6288\n",
      "Epoch 2/30\n",
      "68194/68194 [==============================] - 19s 273us/step - loss: 260.7888 - val_loss: 260.4243\n",
      "Epoch 3/30\n",
      "68194/68194 [==============================] - 18s 265us/step - loss: 260.4087 - val_loss: 261.6883\n",
      "Epoch 4/30\n",
      "68194/68194 [==============================] - 19s 276us/step - loss: 260.2881 - val_loss: 260.6318\n",
      "Epoch 5/30\n",
      "68194/68194 [==============================] - 18s 268us/step - loss: 261.7450 - val_loss: 261.1884\n",
      "Epoch 6/30\n",
      "68194/68194 [==============================] - 18s 265us/step - loss: 260.2474 - val_loss: 264.0271\n",
      "Epoch 7/30\n",
      "68194/68194 [==============================] - 18s 264us/step - loss: 261.2988 - val_loss: 260.8481\n",
      "Epoch 8/30\n",
      "68194/68194 [==============================] - 18s 270us/step - loss: 259.9927 - val_loss: 260.9409\n",
      "Epoch 9/30\n",
      "68194/68194 [==============================] - 18s 270us/step - loss: 259.0045 - val_loss: 261.2640\n",
      "Epoch 10/30\n",
      "68194/68194 [==============================] - 19s 271us/step - loss: 259.4573 - val_loss: 261.6087\n",
      "Epoch 11/30\n",
      "68194/68194 [==============================] - 19s 282us/step - loss: 258.1017 - val_loss: 261.1904\n",
      "Epoch 12/30\n",
      "68194/68194 [==============================] - 19s 280us/step - loss: 258.3744 - val_loss: 261.9246\n",
      "Epoch 13/30\n",
      "68194/68194 [==============================] - 19s 283us/step - loss: 258.1539 - val_loss: 261.7030\n",
      "Epoch 14/30\n",
      "68194/68194 [==============================] - 19s 271us/step - loss: 259.1166 - val_loss: 261.6019\n",
      "Epoch 15/30\n",
      "68194/68194 [==============================] - 18s 267us/step - loss: 258.1219 - val_loss: 263.6038\n",
      "Epoch 16/30\n",
      "68194/68194 [==============================] - 19s 282us/step - loss: 259.5487 - val_loss: 262.0281\n",
      "Epoch 17/30\n",
      "68194/68194 [==============================] - 19s 271us/step - loss: 257.6815 - val_loss: 261.9199\n",
      "Epoch 18/30\n",
      "68194/68194 [==============================] - 19s 271us/step - loss: 256.9636 - val_loss: 264.7244\n",
      "Epoch 19/30\n",
      "68194/68194 [==============================] - 20s 288us/step - loss: 258.6706 - val_loss: 262.3574\n",
      "Epoch 20/30\n",
      "68194/68194 [==============================] - 19s 273us/step - loss: 257.5112 - val_loss: 263.8239\n",
      "Epoch 21/30\n",
      "68194/68194 [==============================] - 19s 286us/step - loss: 257.7872 - val_loss: 262.1043\n",
      "Epoch 22/30\n",
      "68194/68194 [==============================] - 18s 270us/step - loss: 257.6523 - val_loss: 263.6758\n",
      "Epoch 23/30\n",
      "68194/68194 [==============================] - 19s 277us/step - loss: 256.7871 - val_loss: 262.3815\n",
      "Epoch 24/30\n",
      "68194/68194 [==============================] - 18s 271us/step - loss: 257.3710 - val_loss: 263.1776\n",
      "Epoch 25/30\n",
      "68194/68194 [==============================] - 19s 277us/step - loss: 256.8706 - val_loss: 262.9354\n",
      "Epoch 26/30\n",
      "68194/68194 [==============================] - 19s 282us/step - loss: 256.2681 - val_loss: 262.7667\n",
      "Epoch 27/30\n",
      "68194/68194 [==============================] - 18s 270us/step - loss: 256.4491 - val_loss: 262.7096\n",
      "Epoch 28/30\n",
      "68194/68194 [==============================] - 19s 277us/step - loss: 255.7190 - val_loss: 264.5077\n",
      "Epoch 29/30\n",
      "68194/68194 [==============================] - 19s 283us/step - loss: 257.0385 - val_loss: 262.9351\n",
      "Epoch 30/30\n",
      "68194/68194 [==============================] - 18s 266us/step - loss: 255.8455 - val_loss: 262.9388\n"
     ]
    }
   ],
   "source": [
    "batch_size = 5000\n",
    "history = model3.fit(train_x_np, train_y_np, validation_data=(valid_x_np, valid_y_np), shuffle=True, batch_size=batch_size, epochs=30)"
   ]
  },
  {
   "cell_type": "code",
   "execution_count": 26,
   "metadata": {},
   "outputs": [
    {
     "data": {
      "image/png": "[encoded data removed]",
      "text/plain": [
       "<matplotlib.figure.Figure at 0x7efce036c198>"
      ]
     },
     "metadata": {},
     "output_type": "display_data"
    }
   ],
   "source": [
    "plot_training_loss(history)"
   ]
  },
  {
   "cell_type": "code",
   "execution_count": 29,
   "metadata": {},
   "outputs": [],
   "source": [
    "model3.save(\"wine-price-prediction.model.keras.deep.fitted.h5\")"
   ]
  },
  {
   "cell_type": "markdown",
   "metadata": {},
   "source": [
    "### Wider MLP Regressor"
   ]
  },
  {
   "cell_type": "code",
   "execution_count": 30,
   "metadata": {},
   "outputs": [],
   "source": [
    "model4 = load_model('wine-price-prediction.model.keras.wide.h5')"
   ]
  },
  {
   "cell_type": "code",
   "execution_count": 34,
   "metadata": {},
   "outputs": [
    {
     "name": "stdout",
     "output_type": "stream",
     "text": [
      "Train on 68194 samples, validate on 17049 samples\n",
      "Epoch 1/30\n",
      "68194/68194 [==============================] - 35s 510us/step - loss: 255.0261 - val_loss: 260.4495\n",
      "Epoch 2/30\n",
      "68194/68194 [==============================] - 35s 507us/step - loss: 255.2228 - val_loss: 260.6127\n",
      "Epoch 3/30\n",
      "68194/68194 [==============================] - 35s 519us/step - loss: 254.6160 - val_loss: 260.8068\n",
      "Epoch 4/30\n",
      "68194/68194 [==============================] - 37s 545us/step - loss: 253.4203 - val_loss: 260.1584\n",
      "Epoch 5/30\n",
      "68194/68194 [==============================] - 37s 538us/step - loss: 253.9402 - val_loss: 260.8399\n",
      "Epoch 6/30\n",
      "68194/68194 [==============================] - 36s 531us/step - loss: 253.4720 - val_loss: 260.6596\n",
      "Epoch 7/30\n",
      "68194/68194 [==============================] - 37s 545us/step - loss: 253.4437 - val_loss: 260.6358\n",
      "Epoch 8/30\n",
      "68194/68194 [==============================] - 37s 541us/step - loss: 252.4700 - val_loss: 261.0666\n",
      "Epoch 9/30\n",
      "68194/68194 [==============================] - 38s 550us/step - loss: 252.7139 - val_loss: 261.3554\n",
      "Epoch 10/30\n",
      "68194/68194 [==============================] - 37s 550us/step - loss: 252.3424 - val_loss: 260.5813\n",
      "Epoch 11/30\n",
      "68194/68194 [==============================] - 38s 550us/step - loss: 252.1803 - val_loss: 261.2198\n",
      "Epoch 12/30\n",
      "68194/68194 [==============================] - 36s 531us/step - loss: 251.8734 - val_loss: 261.1090\n",
      "Epoch 13/30\n",
      "68194/68194 [==============================] - 37s 538us/step - loss: 251.7535 - val_loss: 261.0840\n",
      "Epoch 14/30\n",
      "68194/68194 [==============================] - 36s 526us/step - loss: 251.5231 - val_loss: 261.1732\n",
      "Epoch 15/30\n",
      "68194/68194 [==============================] - 35s 515us/step - loss: 250.6949 - val_loss: 262.1297\n",
      "Epoch 16/30\n",
      "68194/68194 [==============================] - 35s 507us/step - loss: 250.9679 - val_loss: 261.0583\n",
      "Epoch 17/30\n",
      "68194/68194 [==============================] - 35s 519us/step - loss: 250.5382 - val_loss: 261.4956\n",
      "Epoch 18/30\n",
      "68194/68194 [==============================] - 35s 518us/step - loss: 250.2634 - val_loss: 261.8613\n",
      "Epoch 19/30\n",
      "68194/68194 [==============================] - 35s 510us/step - loss: 250.0064 - val_loss: 261.4203\n",
      "Epoch 20/30\n",
      "68194/68194 [==============================] - 35s 519us/step - loss: 250.4291 - val_loss: 262.1271\n",
      "Epoch 21/30\n",
      "68194/68194 [==============================] - 35s 519us/step - loss: 249.9428 - val_loss: 261.3261\n",
      "Epoch 22/30\n",
      "68194/68194 [==============================] - 35s 512us/step - loss: 249.7081 - val_loss: 262.7436\n",
      "Epoch 23/30\n",
      "68194/68194 [==============================] - 35s 512us/step - loss: 250.3407 - val_loss: 262.0362\n",
      "Epoch 24/30\n",
      "68194/68194 [==============================] - 36s 522us/step - loss: 249.8564 - val_loss: 261.6081\n",
      "Epoch 25/30\n",
      "68194/68194 [==============================] - 34s 506us/step - loss: 249.9509 - val_loss: 263.2551\n",
      "Epoch 26/30\n",
      "68194/68194 [==============================] - 36s 524us/step - loss: 249.8020 - val_loss: 262.0894\n",
      "Epoch 27/30\n",
      "68194/68194 [==============================] - 35s 516us/step - loss: 249.3245 - val_loss: 263.4138\n",
      "Epoch 28/30\n",
      "68194/68194 [==============================] - 36s 521us/step - loss: 249.0859 - val_loss: 262.2517\n",
      "Epoch 29/30\n",
      "68194/68194 [==============================] - 36s 522us/step - loss: 248.0583 - val_loss: 262.8688\n",
      "Epoch 30/30\n",
      "68194/68194 [==============================] - 35s 509us/step - loss: 248.4750 - val_loss: 262.4023\n"
     ]
    }
   ],
   "source": [
    "batch_size = 5000\n",
    "history = model4.fit(train_x_np, train_y_np, validation_data=(valid_x_np, valid_y_np), shuffle=True, batch_size=batch_size, epochs=30)"
   ]
  },
  {
   "cell_type": "code",
   "execution_count": 32,
   "metadata": {},
   "outputs": [
    {
     "data": {
      "image/png": "[encoded data removed]",
      "text/plain": [
       "<matplotlib.figure.Figure at 0x7efd487bfb00>"
      ]
     },
     "metadata": {},
     "output_type": "display_data"
    }
   ],
   "source": [
    "plot_training_loss(history)"
   ]
  },
  {
   "cell_type": "code",
   "execution_count": 35,
   "metadata": {},
   "outputs": [],
   "source": [
    "model4.save(\"wine-price-prediction.model.keras.wide.fitted.h5\")"
   ]
  },
  {
   "cell_type": "markdown",
   "metadata": {},
   "source": [
    "### Final Model\n",
    "\n",
    "Now, when we chose the final model architecture, let's train the model on the whole dataset we have."
   ]
  },
  {
   "cell_type": "code",
   "execution_count": 41,
   "metadata": {},
   "outputs": [],
   "source": [
    "full_x = df_data_1[features]\n",
    "full_y = df_data_1[\"price\"]\n",
    "\n",
    "full_x_enc = one_hot_encode(full_x)\n",
    "\n",
    "full_x_np = full_x_enc.values.reshape(-1, full_x_enc.shape[1])\n",
    "full_y_np = full_y.values.reshape(-1, 1)"
   ]
  },
  {
   "cell_type": "code",
   "execution_count": 42,
   "metadata": {},
   "outputs": [],
   "source": [
    "model_f = load_model('wine-price-prediction.model.keras.wide.h5')"
   ]
  },
  {
   "cell_type": "code",
   "execution_count": 43,
   "metadata": {},
   "outputs": [
    {
     "name": "stdout",
     "output_type": "stream",
     "text": [
      "Epoch 1/30\n",
      "106554/106554 [==============================] - 117s 1ms/step - loss: 858.0340\n",
      "Epoch 2/30\n",
      "106554/106554 [==============================] - 115s 1ms/step - loss: 343.7297\n",
      "Epoch 3/30\n",
      "106554/106554 [==============================] - 113s 1ms/step - loss: 298.1928\n",
      "Epoch 4/30\n",
      "106554/106554 [==============================] - 117s 1ms/step - loss: 286.9928\n",
      "Epoch 5/30\n",
      "106554/106554 [==============================] - 113s 1ms/step - loss: 281.8773\n",
      "Epoch 6/30\n",
      "106554/106554 [==============================] - 113s 1ms/step - loss: 277.2947\n",
      "Epoch 7/30\n",
      "106554/106554 [==============================] - 114s 1ms/step - loss: 273.9952\n",
      "Epoch 8/30\n",
      "106554/106554 [==============================] - 112s 1ms/step - loss: 271.3300\n",
      "Epoch 9/30\n",
      "106554/106554 [==============================] - 116s 1ms/step - loss: 268.6635\n",
      "Epoch 10/30\n",
      "106554/106554 [==============================] - 112s 1ms/step - loss: 267.0740\n",
      "Epoch 11/30\n",
      "106554/106554 [==============================] - 111s 1ms/step - loss: 264.8225\n",
      "Epoch 12/30\n",
      "106554/106554 [==============================] - 110s 1ms/step - loss: 263.7762\n",
      "Epoch 13/30\n",
      "106554/106554 [==============================] - 112s 1ms/step - loss: 262.3597\n",
      "Epoch 14/30\n",
      "106554/106554 [==============================] - 114s 1ms/step - loss: 261.4845\n",
      "Epoch 15/30\n",
      "106554/106554 [==============================] - 106s 994us/step - loss: 260.5303\n",
      "Epoch 16/30\n",
      "106554/106554 [==============================] - 108s 1ms/step - loss: 259.5852\n",
      "Epoch 17/30\n",
      "106554/106554 [==============================] - 108s 1ms/step - loss: 258.7414\n",
      "Epoch 18/30\n",
      "106554/106554 [==============================] - 111s 1ms/step - loss: 257.9074\n",
      "Epoch 19/30\n",
      "106554/106554 [==============================] - 112s 1ms/step - loss: 257.2013\n",
      "Epoch 20/30\n",
      "106554/106554 [==============================] - 107s 1ms/step - loss: 257.1573\n",
      "Epoch 21/30\n",
      "106554/106554 [==============================] - 110s 1ms/step - loss: 256.4056\n",
      "Epoch 22/30\n",
      "106554/106554 [==============================] - 107s 1ms/step - loss: 256.3168\n",
      "Epoch 23/30\n",
      "106554/106554 [==============================] - 104s 975us/step - loss: 255.5393\n",
      "Epoch 24/30\n",
      "106554/106554 [==============================] - 55s 515us/step - loss: 254.8241\n",
      "Epoch 25/30\n",
      "106554/106554 [==============================] - 99s 926us/step - loss: 254.8132\n",
      "Epoch 26/30\n",
      "106554/106554 [==============================] - 107s 1ms/step - loss: 255.1297\n",
      "Epoch 27/30\n",
      "106554/106554 [==============================] - 106s 999us/step - loss: 254.2929\n",
      "Epoch 28/30\n",
      "106554/106554 [==============================] - 108s 1ms/step - loss: 253.6790\n",
      "Epoch 29/30\n",
      "106554/106554 [==============================] - 107s 1ms/step - loss: 253.8875\n",
      "Epoch 30/30\n",
      "106554/106554 [==============================] - 109s 1ms/step - loss: 253.5167\n"
     ]
    }
   ],
   "source": [
    "batch_size = 5000\n",
    "history = model_f.fit(full_x_np, full_y_np, shuffle=True, batch_size=batch_size, epochs=30)"
   ]
  },
  {
   "cell_type": "code",
   "execution_count": 44,
   "metadata": {},
   "outputs": [],
   "source": [
    "model_f.save(\"wine-price-prediction.model.keras.final.fitted.h5\")"
   ]
  },
  {
   "cell_type": "code",
   "execution_count": null,
   "metadata": {},
   "outputs": [],
   "source": []
  }
 ],
 "metadata": {
  "kernelspec": {
   "display_name": "Python 3",
   "language": "python",
   "name": "python3"
  },
  "language_info": {
   "codemirror_mode": {
    "name": "ipython",
    "version": 3
   },
   "file_extension": ".py",
   "mimetype": "text/x-python",
   "name": "python",
   "nbconvert_exporter": "python",
   "pygments_lexer": "ipython3",
   "version": "3.6.6"
  }
 },
 "nbformat": 4,
 "nbformat_minor": 1
}
